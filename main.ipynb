{
 "cells": [
  {
   "cell_type": "code",
   "execution_count": 2,
   "metadata": {},
   "outputs": [],
   "source": [
    "# Import python dataframes.\n",
    "\n",
    "import pandas as pd\n",
    "import numpy as np\n",
    "import seaborn as sns\n",
    "import matplotlib.pyplot as plt"
   ]
  },
  {
   "cell_type": "markdown",
   "metadata": {},
   "source": [
    "** Step 1 - Clean Data **"
   ]
  },
  {
   "cell_type": "code",
   "execution_count": 3,
   "metadata": {},
   "outputs": [],
   "source": [
    "# Read CSV\n",
    "df = pd.read_csv('Walmart.csv', encoding_errors=\"ignore\")"
   ]
  },
  {
   "cell_type": "code",
   "execution_count": 4,
   "metadata": {},
   "outputs": [
    {
     "data": {
      "text/plain": [
       "np.int64(51)"
      ]
     },
     "execution_count": 4,
     "metadata": {},
     "output_type": "execute_result"
    }
   ],
   "source": [
    "# Find Duplicates\n",
    "df.duplicated().sum()"
   ]
  },
  {
   "cell_type": "code",
   "execution_count": 5,
   "metadata": {},
   "outputs": [],
   "source": [
    "# Drop Duplicates\n",
    "df.drop_duplicates(inplace=True)"
   ]
  },
  {
   "cell_type": "code",
   "execution_count": 6,
   "metadata": {},
   "outputs": [
    {
     "data": {
      "text/plain": [
       "invoice_id         0\n",
       "Branch             0\n",
       "City               0\n",
       "category           0\n",
       "unit_price        31\n",
       "quantity          31\n",
       "date               0\n",
       "time               0\n",
       "payment_method     0\n",
       "rating             0\n",
       "profit_margin      0\n",
       "dtype: int64"
      ]
     },
     "execution_count": 6,
     "metadata": {},
     "output_type": "execute_result"
    }
   ],
   "source": [
    "# Find all nulls \n",
    "df.isna().sum()"
   ]
  },
  {
   "cell_type": "code",
   "execution_count": 7,
   "metadata": {},
   "outputs": [
    {
     "data": {
      "text/plain": [
       "invoice_id        0\n",
       "Branch            0\n",
       "City              0\n",
       "category          0\n",
       "unit_price        0\n",
       "quantity          0\n",
       "date              0\n",
       "time              0\n",
       "payment_method    0\n",
       "rating            0\n",
       "profit_margin     0\n",
       "dtype: int64"
      ]
     },
     "execution_count": 7,
     "metadata": {},
     "output_type": "execute_result"
    }
   ],
   "source": [
    "# Drop all nulls\n",
    "df.dropna(inplace=True)\n",
    "df.isna().sum()"
   ]
  },
  {
   "cell_type": "code",
   "execution_count": 8,
   "metadata": {},
   "outputs": [
    {
     "data": {
      "text/plain": [
       "invoice_id          int64\n",
       "Branch             object\n",
       "City               object\n",
       "category           object\n",
       "unit_price         object\n",
       "quantity          float64\n",
       "date               object\n",
       "time               object\n",
       "payment_method     object\n",
       "rating            float64\n",
       "profit_margin     float64\n",
       "dtype: object"
      ]
     },
     "execution_count": 8,
     "metadata": {},
     "output_type": "execute_result"
    }
   ],
   "source": [
    "# Column Datatypes\n",
    "df.dtypes"
   ]
  },
  {
   "cell_type": "code",
   "execution_count": 9,
   "metadata": {},
   "outputs": [
    {
     "data": {
      "text/html": [
       "<div>\n",
       "<style scoped>\n",
       "    .dataframe tbody tr th:only-of-type {\n",
       "        vertical-align: middle;\n",
       "    }\n",
       "\n",
       "    .dataframe tbody tr th {\n",
       "        vertical-align: top;\n",
       "    }\n",
       "\n",
       "    .dataframe thead th {\n",
       "        text-align: right;\n",
       "    }\n",
       "</style>\n",
       "<table border=\"1\" class=\"dataframe\">\n",
       "  <thead>\n",
       "    <tr style=\"text-align: right;\">\n",
       "      <th></th>\n",
       "      <th>invoice_id</th>\n",
       "      <th>Branch</th>\n",
       "      <th>City</th>\n",
       "      <th>category</th>\n",
       "      <th>unit_price</th>\n",
       "      <th>quantity</th>\n",
       "      <th>date</th>\n",
       "      <th>time</th>\n",
       "      <th>payment_method</th>\n",
       "      <th>rating</th>\n",
       "      <th>profit_margin</th>\n",
       "    </tr>\n",
       "  </thead>\n",
       "  <tbody>\n",
       "    <tr>\n",
       "      <th>0</th>\n",
       "      <td>1</td>\n",
       "      <td>WALM003</td>\n",
       "      <td>San Antonio</td>\n",
       "      <td>Health and beauty</td>\n",
       "      <td>$74.69</td>\n",
       "      <td>7.0</td>\n",
       "      <td>05/01/19</td>\n",
       "      <td>13:08:00</td>\n",
       "      <td>Ewallet</td>\n",
       "      <td>9.1</td>\n",
       "      <td>0.48</td>\n",
       "    </tr>\n",
       "    <tr>\n",
       "      <th>1</th>\n",
       "      <td>2</td>\n",
       "      <td>WALM048</td>\n",
       "      <td>Harlingen</td>\n",
       "      <td>Electronic accessories</td>\n",
       "      <td>$15.28</td>\n",
       "      <td>5.0</td>\n",
       "      <td>08/03/19</td>\n",
       "      <td>10:29:00</td>\n",
       "      <td>Cash</td>\n",
       "      <td>9.6</td>\n",
       "      <td>0.48</td>\n",
       "    </tr>\n",
       "    <tr>\n",
       "      <th>2</th>\n",
       "      <td>3</td>\n",
       "      <td>WALM067</td>\n",
       "      <td>Haltom City</td>\n",
       "      <td>Home and lifestyle</td>\n",
       "      <td>$46.33</td>\n",
       "      <td>7.0</td>\n",
       "      <td>03/03/19</td>\n",
       "      <td>13:23:00</td>\n",
       "      <td>Credit card</td>\n",
       "      <td>7.4</td>\n",
       "      <td>0.33</td>\n",
       "    </tr>\n",
       "    <tr>\n",
       "      <th>3</th>\n",
       "      <td>4</td>\n",
       "      <td>WALM064</td>\n",
       "      <td>Bedford</td>\n",
       "      <td>Health and beauty</td>\n",
       "      <td>$58.22</td>\n",
       "      <td>8.0</td>\n",
       "      <td>27/01/19</td>\n",
       "      <td>20:33:00</td>\n",
       "      <td>Ewallet</td>\n",
       "      <td>8.4</td>\n",
       "      <td>0.33</td>\n",
       "    </tr>\n",
       "    <tr>\n",
       "      <th>4</th>\n",
       "      <td>5</td>\n",
       "      <td>WALM013</td>\n",
       "      <td>Irving</td>\n",
       "      <td>Sports and travel</td>\n",
       "      <td>$86.31</td>\n",
       "      <td>7.0</td>\n",
       "      <td>08/02/19</td>\n",
       "      <td>10:37:00</td>\n",
       "      <td>Ewallet</td>\n",
       "      <td>5.3</td>\n",
       "      <td>0.48</td>\n",
       "    </tr>\n",
       "    <tr>\n",
       "      <th>5</th>\n",
       "      <td>6</td>\n",
       "      <td>WALM026</td>\n",
       "      <td>Denton</td>\n",
       "      <td>Electronic accessories</td>\n",
       "      <td>$85.39</td>\n",
       "      <td>7.0</td>\n",
       "      <td>25/03/19</td>\n",
       "      <td>18:30:00</td>\n",
       "      <td>Ewallet</td>\n",
       "      <td>4.1</td>\n",
       "      <td>0.48</td>\n",
       "    </tr>\n",
       "    <tr>\n",
       "      <th>6</th>\n",
       "      <td>7</td>\n",
       "      <td>WALM088</td>\n",
       "      <td>Cleburne</td>\n",
       "      <td>Electronic accessories</td>\n",
       "      <td>$68.84</td>\n",
       "      <td>6.0</td>\n",
       "      <td>25/02/19</td>\n",
       "      <td>14:36:00</td>\n",
       "      <td>Ewallet</td>\n",
       "      <td>5.8</td>\n",
       "      <td>0.33</td>\n",
       "    </tr>\n",
       "    <tr>\n",
       "      <th>7</th>\n",
       "      <td>8</td>\n",
       "      <td>WALM100</td>\n",
       "      <td>Canyon</td>\n",
       "      <td>Home and lifestyle</td>\n",
       "      <td>$73.56</td>\n",
       "      <td>10.0</td>\n",
       "      <td>24/02/19</td>\n",
       "      <td>11:38:00</td>\n",
       "      <td>Ewallet</td>\n",
       "      <td>8.0</td>\n",
       "      <td>0.18</td>\n",
       "    </tr>\n",
       "    <tr>\n",
       "      <th>8</th>\n",
       "      <td>9</td>\n",
       "      <td>WALM066</td>\n",
       "      <td>Grapevine</td>\n",
       "      <td>Health and beauty</td>\n",
       "      <td>$36.26</td>\n",
       "      <td>2.0</td>\n",
       "      <td>10/01/19</td>\n",
       "      <td>17:15:00</td>\n",
       "      <td>Credit card</td>\n",
       "      <td>7.2</td>\n",
       "      <td>0.33</td>\n",
       "    </tr>\n",
       "    <tr>\n",
       "      <th>9</th>\n",
       "      <td>10</td>\n",
       "      <td>WALM065</td>\n",
       "      <td>Texas City</td>\n",
       "      <td>Food and beverages</td>\n",
       "      <td>$54.84</td>\n",
       "      <td>3.0</td>\n",
       "      <td>20/02/19</td>\n",
       "      <td>13:27:00</td>\n",
       "      <td>Credit card</td>\n",
       "      <td>5.9</td>\n",
       "      <td>0.33</td>\n",
       "    </tr>\n",
       "  </tbody>\n",
       "</table>\n",
       "</div>"
      ],
      "text/plain": [
       "   invoice_id   Branch         City                category unit_price  \\\n",
       "0           1  WALM003  San Antonio       Health and beauty     $74.69   \n",
       "1           2  WALM048    Harlingen  Electronic accessories     $15.28   \n",
       "2           3  WALM067  Haltom City      Home and lifestyle     $46.33   \n",
       "3           4  WALM064      Bedford       Health and beauty     $58.22   \n",
       "4           5  WALM013       Irving       Sports and travel     $86.31   \n",
       "5           6  WALM026       Denton  Electronic accessories     $85.39   \n",
       "6           7  WALM088     Cleburne  Electronic accessories     $68.84   \n",
       "7           8  WALM100       Canyon      Home and lifestyle     $73.56   \n",
       "8           9  WALM066    Grapevine       Health and beauty     $36.26   \n",
       "9          10  WALM065   Texas City      Food and beverages     $54.84   \n",
       "\n",
       "   quantity      date      time payment_method  rating  profit_margin  \n",
       "0       7.0  05/01/19  13:08:00        Ewallet     9.1           0.48  \n",
       "1       5.0  08/03/19  10:29:00           Cash     9.6           0.48  \n",
       "2       7.0  03/03/19  13:23:00    Credit card     7.4           0.33  \n",
       "3       8.0  27/01/19  20:33:00        Ewallet     8.4           0.33  \n",
       "4       7.0  08/02/19  10:37:00        Ewallet     5.3           0.48  \n",
       "5       7.0  25/03/19  18:30:00        Ewallet     4.1           0.48  \n",
       "6       6.0  25/02/19  14:36:00        Ewallet     5.8           0.33  \n",
       "7      10.0  24/02/19  11:38:00        Ewallet     8.0           0.18  \n",
       "8       2.0  10/01/19  17:15:00    Credit card     7.2           0.33  \n",
       "9       3.0  20/02/19  13:27:00    Credit card     5.9           0.33  "
      ]
     },
     "execution_count": 9,
     "metadata": {},
     "output_type": "execute_result"
    }
   ],
   "source": [
    "# Get a quick look of dataset\n",
    "df.head(10)"
   ]
  },
  {
   "cell_type": "code",
   "execution_count": 10,
   "metadata": {},
   "outputs": [],
   "source": [
    "# Remove '$' sign in front of values in column 'unit_price'\n",
    "df['unit_price'] = df['unit_price'].str.replace(\"$\", \"\").astype(float)"
   ]
  },
  {
   "cell_type": "code",
   "execution_count": 11,
   "metadata": {},
   "outputs": [
    {
     "data": {
      "text/plain": [
       "0    74.69\n",
       "1    15.28\n",
       "2    46.33\n",
       "3    58.22\n",
       "4    86.31\n",
       "Name: unit_price, dtype: float64"
      ]
     },
     "execution_count": 11,
     "metadata": {},
     "output_type": "execute_result"
    }
   ],
   "source": [
    "# Verify removal of '$' sign\n",
    "df['unit_price'].head(5)"
   ]
  },
  {
   "cell_type": "code",
   "execution_count": 12,
   "metadata": {},
   "outputs": [
    {
     "data": {
      "text/plain": [
       "invoice_id          int64\n",
       "Branch             object\n",
       "City               object\n",
       "category           object\n",
       "unit_price        float64\n",
       "quantity          float64\n",
       "date               object\n",
       "time               object\n",
       "payment_method     object\n",
       "rating            float64\n",
       "profit_margin     float64\n",
       "dtype: object"
      ]
     },
     "execution_count": 12,
     "metadata": {},
     "output_type": "execute_result"
    }
   ],
   "source": [
    "df.dtypes"
   ]
  },
  {
   "cell_type": "code",
   "execution_count": 13,
   "metadata": {},
   "outputs": [
    {
     "data": {
      "text/plain": [
       "0       13:08:00\n",
       "1       10:29:00\n",
       "2       13:23:00\n",
       "3       20:33:00\n",
       "4       10:37:00\n",
       "          ...   \n",
       "9995    10:10:00\n",
       "9996    14:20:00\n",
       "9997    16:00:00\n",
       "9998    12:25:00\n",
       "9999    09:48:00\n",
       "Name: time, Length: 9969, dtype: object"
      ]
     },
     "execution_count": 13,
     "metadata": {},
     "output_type": "execute_result"
    }
   ],
   "source": [
    "# Convert data and time format\n",
    "df[\"date\"] = pd.to_datetime(df[\"date\"], format= \"%d/%m/%y\")\n",
    "df[\"time\"] = pd.to_datetime(df[\"time\"], format = \"%H:%M:%S\").dt.time\n",
    "df[\"time\"]"
   ]
  },
  {
   "cell_type": "code",
   "execution_count": 14,
   "metadata": {},
   "outputs": [
    {
     "data": {
      "text/html": [
       "<div>\n",
       "<style scoped>\n",
       "    .dataframe tbody tr th:only-of-type {\n",
       "        vertical-align: middle;\n",
       "    }\n",
       "\n",
       "    .dataframe tbody tr th {\n",
       "        vertical-align: top;\n",
       "    }\n",
       "\n",
       "    .dataframe thead th {\n",
       "        text-align: right;\n",
       "    }\n",
       "</style>\n",
       "<table border=\"1\" class=\"dataframe\">\n",
       "  <thead>\n",
       "    <tr style=\"text-align: right;\">\n",
       "      <th></th>\n",
       "      <th>day of week</th>\n",
       "      <th>month</th>\n",
       "    </tr>\n",
       "  </thead>\n",
       "  <tbody>\n",
       "    <tr>\n",
       "      <th>0</th>\n",
       "      <td>Saturday</td>\n",
       "      <td>January</td>\n",
       "    </tr>\n",
       "    <tr>\n",
       "      <th>1</th>\n",
       "      <td>Friday</td>\n",
       "      <td>March</td>\n",
       "    </tr>\n",
       "    <tr>\n",
       "      <th>2</th>\n",
       "      <td>Sunday</td>\n",
       "      <td>March</td>\n",
       "    </tr>\n",
       "    <tr>\n",
       "      <th>3</th>\n",
       "      <td>Sunday</td>\n",
       "      <td>January</td>\n",
       "    </tr>\n",
       "    <tr>\n",
       "      <th>4</th>\n",
       "      <td>Friday</td>\n",
       "      <td>February</td>\n",
       "    </tr>\n",
       "  </tbody>\n",
       "</table>\n",
       "</div>"
      ],
      "text/plain": [
       "  day of week     month\n",
       "0    Saturday   January\n",
       "1      Friday     March\n",
       "2      Sunday     March\n",
       "3      Sunday   January\n",
       "4      Friday  February"
      ]
     },
     "execution_count": 14,
     "metadata": {},
     "output_type": "execute_result"
    }
   ],
   "source": [
    "# Extract Additional date features\n",
    "df[\"day of week\"] = df[\"date\"].dt.day_name()\n",
    "df[\"month\"] = df[\"date\"].dt.month_name()\n",
    "df[[\"day of week\", \"month\"]].head()"
   ]
  },
  {
   "cell_type": "code",
   "execution_count": 15,
   "metadata": {},
   "outputs": [],
   "source": [
    "# Calculate and add total revenue for each sale \n",
    "df[\"total_revenue\"] = df['unit_price'] * df['quantity']"
   ]
  },
  {
   "cell_type": "markdown",
   "metadata": {},
   "source": [
    "** Step 2: Descriptive Analysis **"
   ]
  },
  {
   "cell_type": "code",
   "execution_count": 16,
   "metadata": {},
   "outputs": [
    {
     "data": {
      "text/html": [
       "<div>\n",
       "<style scoped>\n",
       "    .dataframe tbody tr th:only-of-type {\n",
       "        vertical-align: middle;\n",
       "    }\n",
       "\n",
       "    .dataframe tbody tr th {\n",
       "        vertical-align: top;\n",
       "    }\n",
       "\n",
       "    .dataframe thead th {\n",
       "        text-align: right;\n",
       "    }\n",
       "</style>\n",
       "<table border=\"1\" class=\"dataframe\">\n",
       "  <thead>\n",
       "    <tr style=\"text-align: right;\">\n",
       "      <th></th>\n",
       "      <th>invoice_id</th>\n",
       "      <th>unit_price</th>\n",
       "      <th>quantity</th>\n",
       "      <th>rating</th>\n",
       "      <th>profit_margin</th>\n",
       "      <th>total_revenue</th>\n",
       "    </tr>\n",
       "  </thead>\n",
       "  <tbody>\n",
       "    <tr>\n",
       "      <th>count</th>\n",
       "      <td>9969.000000</td>\n",
       "      <td>9969.000000</td>\n",
       "      <td>9969.000000</td>\n",
       "      <td>9969.000000</td>\n",
       "      <td>9969.000000</td>\n",
       "      <td>9969.000000</td>\n",
       "    </tr>\n",
       "    <tr>\n",
       "      <th>mean</th>\n",
       "      <td>5010.116561</td>\n",
       "      <td>50.622142</td>\n",
       "      <td>2.355602</td>\n",
       "      <td>5.828839</td>\n",
       "      <td>0.393744</td>\n",
       "      <td>121.348819</td>\n",
       "    </tr>\n",
       "    <tr>\n",
       "      <th>std</th>\n",
       "      <td>2886.217349</td>\n",
       "      <td>21.203766</td>\n",
       "      <td>1.605455</td>\n",
       "      <td>1.763723</td>\n",
       "      <td>0.090659</td>\n",
       "      <td>112.678040</td>\n",
       "    </tr>\n",
       "    <tr>\n",
       "      <th>min</th>\n",
       "      <td>1.000000</td>\n",
       "      <td>10.080000</td>\n",
       "      <td>1.000000</td>\n",
       "      <td>3.000000</td>\n",
       "      <td>0.180000</td>\n",
       "      <td>10.170000</td>\n",
       "    </tr>\n",
       "    <tr>\n",
       "      <th>25%</th>\n",
       "      <td>2524.000000</td>\n",
       "      <td>32.000000</td>\n",
       "      <td>1.000000</td>\n",
       "      <td>4.000000</td>\n",
       "      <td>0.330000</td>\n",
       "      <td>54.000000</td>\n",
       "    </tr>\n",
       "    <tr>\n",
       "      <th>50%</th>\n",
       "      <td>5016.000000</td>\n",
       "      <td>51.000000</td>\n",
       "      <td>2.000000</td>\n",
       "      <td>6.000000</td>\n",
       "      <td>0.330000</td>\n",
       "      <td>88.000000</td>\n",
       "    </tr>\n",
       "    <tr>\n",
       "      <th>75%</th>\n",
       "      <td>7508.000000</td>\n",
       "      <td>69.000000</td>\n",
       "      <td>3.000000</td>\n",
       "      <td>7.000000</td>\n",
       "      <td>0.480000</td>\n",
       "      <td>156.000000</td>\n",
       "    </tr>\n",
       "    <tr>\n",
       "      <th>max</th>\n",
       "      <td>10000.000000</td>\n",
       "      <td>99.960000</td>\n",
       "      <td>10.000000</td>\n",
       "      <td>10.000000</td>\n",
       "      <td>0.570000</td>\n",
       "      <td>993.000000</td>\n",
       "    </tr>\n",
       "  </tbody>\n",
       "</table>\n",
       "</div>"
      ],
      "text/plain": [
       "         invoice_id   unit_price     quantity       rating  profit_margin  \\\n",
       "count   9969.000000  9969.000000  9969.000000  9969.000000    9969.000000   \n",
       "mean    5010.116561    50.622142     2.355602     5.828839       0.393744   \n",
       "std     2886.217349    21.203766     1.605455     1.763723       0.090659   \n",
       "min        1.000000    10.080000     1.000000     3.000000       0.180000   \n",
       "25%     2524.000000    32.000000     1.000000     4.000000       0.330000   \n",
       "50%     5016.000000    51.000000     2.000000     6.000000       0.330000   \n",
       "75%     7508.000000    69.000000     3.000000     7.000000       0.480000   \n",
       "max    10000.000000    99.960000    10.000000    10.000000       0.570000   \n",
       "\n",
       "       total_revenue  \n",
       "count    9969.000000  \n",
       "mean      121.348819  \n",
       "std       112.678040  \n",
       "min        10.170000  \n",
       "25%        54.000000  \n",
       "50%        88.000000  \n",
       "75%       156.000000  \n",
       "max       993.000000  "
      ]
     },
     "execution_count": 16,
     "metadata": {},
     "output_type": "execute_result"
    }
   ],
   "source": [
    "# Stastical description of the data\n",
    "df.describe(include=[float, int])"
   ]
  },
  {
   "cell_type": "code",
   "execution_count": 17,
   "metadata": {},
   "outputs": [
    {
     "data": {
      "text/plain": [
       "payment_method\n",
       "Credit card    4256\n",
       "Ewallet        3881\n",
       "Cash           1832\n",
       "Name: count, dtype: int64"
      ]
     },
     "execution_count": 17,
     "metadata": {},
     "output_type": "execute_result"
    }
   ],
   "source": [
    "# Frequency of Payment methods used\n",
    "df[\"payment_method\"].value_counts()"
   ]
  },
  {
   "cell_type": "code",
   "execution_count": 18,
   "metadata": {},
   "outputs": [
    {
     "data": {
      "text/plain": [
       "day of week\n",
       "Tuesday      1468\n",
       "Thursday     1463\n",
       "Wednesday    1459\n",
       "Saturday     1441\n",
       "Sunday       1411\n",
       "Friday       1405\n",
       "Monday       1322\n",
       "Name: count, dtype: int64"
      ]
     },
     "execution_count": 18,
     "metadata": {},
     "output_type": "execute_result"
    }
   ],
   "source": [
    "# Busiest Days (Descending order)\n",
    "df[\"day of week\"].value_counts().sort_values(ascending=False)"
   ]
  },
  {
   "cell_type": "markdown",
   "metadata": {},
   "source": [
    "** Step 3: Top Categories & Branches Analysis**"
   ]
  },
  {
   "cell_type": "code",
   "execution_count": 21,
   "metadata": {},
   "outputs": [
    {
     "data": {
      "text/plain": [
       "category\n",
       "Fashion accessories       489480.90\n",
       "Home and lifestyle        489250.06\n",
       "Electronic accessories     78175.03\n",
       "Food and beverages         53471.28\n",
       "Sports and travel          52497.93\n",
       "Name: total_revenue, dtype: float64"
      ]
     },
     "execution_count": 21,
     "metadata": {},
     "output_type": "execute_result"
    }
   ],
   "source": [
    "# Top 5 categories by Revenue\n",
    "top_categories = df.groupby('category')['total_revenue'].sum().sort_values(ascending=False)\n",
    "top_categories.head(5)"
   ]
  },
  {
   "cell_type": "code",
   "execution_count": 23,
   "metadata": {},
   "outputs": [
    {
     "data": {
      "text/plain": [
       "City\n",
       "Weslaco        46351.79\n",
       "Waxahachie     40703.33\n",
       "Plano          25688.34\n",
       "San Antonio    24950.56\n",
       "Port Arthur    24524.37\n",
       "Name: total_revenue, dtype: float64"
      ]
     },
     "execution_count": 23,
     "metadata": {},
     "output_type": "execute_result"
    }
   ],
   "source": [
    "# Top 5 cities by Revenue\n",
    "top_cities = df.groupby('City')['total_revenue'].sum().sort_values(ascending=False)\n",
    "top_cities.head(5)"
   ]
  },
  {
   "cell_type": "code",
   "execution_count": 42,
   "metadata": {},
   "outputs": [
    {
     "data": {
      "text/html": [
       "<div>\n",
       "<style scoped>\n",
       "    .dataframe tbody tr th:only-of-type {\n",
       "        vertical-align: middle;\n",
       "    }\n",
       "\n",
       "    .dataframe tbody tr th {\n",
       "        vertical-align: top;\n",
       "    }\n",
       "\n",
       "    .dataframe thead th {\n",
       "        text-align: right;\n",
       "    }\n",
       "</style>\n",
       "<table border=\"1\" class=\"dataframe\">\n",
       "  <thead>\n",
       "    <tr style=\"text-align: right;\">\n",
       "      <th></th>\n",
       "      <th>City</th>\n",
       "      <th>category</th>\n",
       "      <th>total_revenue</th>\n",
       "    </tr>\n",
       "  </thead>\n",
       "  <tbody>\n",
       "    <tr>\n",
       "      <th>1</th>\n",
       "      <td>Abilene</td>\n",
       "      <td>Fashion accessories</td>\n",
       "      <td>4806.21</td>\n",
       "    </tr>\n",
       "    <tr>\n",
       "      <th>8</th>\n",
       "      <td>Alamo</td>\n",
       "      <td>Home and lifestyle</td>\n",
       "      <td>3505.86</td>\n",
       "    </tr>\n",
       "    <tr>\n",
       "      <th>13</th>\n",
       "      <td>Alice</td>\n",
       "      <td>Home and lifestyle</td>\n",
       "      <td>3168.02</td>\n",
       "    </tr>\n",
       "    <tr>\n",
       "      <th>16</th>\n",
       "      <td>Allen</td>\n",
       "      <td>Fashion accessories</td>\n",
       "      <td>3674.00</td>\n",
       "    </tr>\n",
       "    <tr>\n",
       "      <th>22</th>\n",
       "      <td>Amarillo</td>\n",
       "      <td>Fashion accessories</td>\n",
       "      <td>2636.48</td>\n",
       "    </tr>\n",
       "    <tr>\n",
       "      <th>...</th>\n",
       "      <td>...</td>\n",
       "      <td>...</td>\n",
       "      <td>...</td>\n",
       "    </tr>\n",
       "    <tr>\n",
       "      <th>490</th>\n",
       "      <td>Victoria</td>\n",
       "      <td>Home and lifestyle</td>\n",
       "      <td>8348.96</td>\n",
       "    </tr>\n",
       "    <tr>\n",
       "      <th>495</th>\n",
       "      <td>Waco</td>\n",
       "      <td>Home and lifestyle</td>\n",
       "      <td>7046.67</td>\n",
       "    </tr>\n",
       "    <tr>\n",
       "      <th>501</th>\n",
       "      <td>Waxahachie</td>\n",
       "      <td>Home and lifestyle</td>\n",
       "      <td>18178.76</td>\n",
       "    </tr>\n",
       "    <tr>\n",
       "      <th>505</th>\n",
       "      <td>Weatherford</td>\n",
       "      <td>Home and lifestyle</td>\n",
       "      <td>8757.04</td>\n",
       "    </tr>\n",
       "    <tr>\n",
       "      <th>511</th>\n",
       "      <td>Weslaco</td>\n",
       "      <td>Home and lifestyle</td>\n",
       "      <td>21473.89</td>\n",
       "    </tr>\n",
       "  </tbody>\n",
       "</table>\n",
       "<p>98 rows × 3 columns</p>\n",
       "</div>"
      ],
      "text/plain": [
       "            City             category  total_revenue\n",
       "1        Abilene  Fashion accessories        4806.21\n",
       "8          Alamo   Home and lifestyle        3505.86\n",
       "13         Alice   Home and lifestyle        3168.02\n",
       "16         Allen  Fashion accessories        3674.00\n",
       "22      Amarillo  Fashion accessories        2636.48\n",
       "..           ...                  ...            ...\n",
       "490     Victoria   Home and lifestyle        8348.96\n",
       "495         Waco   Home and lifestyle        7046.67\n",
       "501   Waxahachie   Home and lifestyle       18178.76\n",
       "505  Weatherford   Home and lifestyle        8757.04\n",
       "511      Weslaco   Home and lifestyle       21473.89\n",
       "\n",
       "[98 rows x 3 columns]"
      ]
     },
     "execution_count": 42,
     "metadata": {},
     "output_type": "execute_result"
    }
   ],
   "source": [
    "# Most popular category in each city\n",
    "pop_category_each_city = df.groupby(['City', 'category'])['total_revenue'].sum().reset_index()\n",
    "pop_category_each_city = pop_category_each_city.loc[pop_category_each_city.groupby('City')['total_revenue'].idxmax()]\n",
    "pop_category_each_city"
   ]
  },
  {
   "cell_type": "markdown",
   "metadata": {},
   "source": [
    "** Step 4 - Sales Over time **"
   ]
  },
  {
   "cell_type": "code",
   "execution_count": 47,
   "metadata": {},
   "outputs": [
    {
     "data": {
      "text/plain": [
       "date\n",
       "2019-01-01    4519.22\n",
       "2019-01-02    1852.86\n",
       "2019-01-03    1979.17\n",
       "2019-01-04    1546.37\n",
       "2019-01-05    3368.27\n",
       "Name: total_revenue, dtype: float64"
      ]
     },
     "execution_count": 47,
     "metadata": {},
     "output_type": "execute_result"
    }
   ],
   "source": [
    "# Grouping sales by date\n",
    "daily_sales = df.groupby('date')['total_revenue'].sum()\n",
    "daily_sales.head()\n"
   ]
  },
  {
   "cell_type": "code",
   "execution_count": 54,
   "metadata": {},
   "outputs": [
    {
     "data": {
      "image/png": "[encoded data removed]",
      "text/plain": [
       "<Figure size 1200x600 with 1 Axes>"
      ]
     },
     "metadata": {},
     "output_type": "display_data"
    }
   ],
   "source": [
    "# Plot daily sales trend\n",
    "\n",
    "plt.figure(figsize=(12,6))\n",
    "plt.plot(daily_sales)\n",
    "plt.title('Daily Sales Over Time')\n",
    "plt.xlabel('Date')\n",
    "plt.ylabel('Total Revenue')\n",
    "plt.grid()\n",
    "plt.show()"
   ]
  },
  {
   "cell_type": "markdown",
   "metadata": {},
   "source": [
    "** Step 5 - Profitability Analysis **"
   ]
  },
  {
   "cell_type": "code",
   "execution_count": null,
   "metadata": {},
   "outputs": [],
   "source": [
    "# Add a new profit column \n",
    "df['total_profit'] = df['profit_margin'] * df['total_revenue']"
   ]
  },
  {
   "cell_type": "code",
   "execution_count": 57,
   "metadata": {},
   "outputs": [
    {
     "data": {
      "text/plain": [
       "category\n",
       "Fashion accessories       192314.8932\n",
       "Home and lifestyle        192213.6381\n",
       "Electronic accessories     30772.4895\n",
       "Food and beverages         21552.8622\n",
       "Sports and travel          20613.8082\n",
       "Health and beauty          18671.7345\n",
       "Name: total_profit, dtype: float64"
      ]
     },
     "execution_count": 57,
     "metadata": {},
     "output_type": "execute_result"
    }
   ],
   "source": [
    "# Most profitable Category\n",
    "profitable_categories = df.groupby('category')['total_profit'].sum().sort_values(ascending=0)\n",
    "profitable_categories"
   ]
  },
  {
   "cell_type": "code",
   "execution_count": 58,
   "metadata": {},
   "outputs": [
    {
     "data": {
      "text/plain": [
       "City\n",
       "Weslaco          15296.0907\n",
       "Waxahachie       13432.0989\n",
       "Plano            12330.4032\n",
       "Richardson       11741.0880\n",
       "San Antonio      11456.6988\n",
       "                    ...    \n",
       "Coppell           2285.8902\n",
       "Mineral Wells     1711.7874\n",
       "Lake Jackson      1662.8370\n",
       "Canyon            1485.7812\n",
       "Alice             1327.8438\n",
       "Name: total_profit, Length: 98, dtype: float64"
      ]
     },
     "execution_count": 58,
     "metadata": {},
     "output_type": "execute_result"
    }
   ],
   "source": [
    "# Most profitable Cities\n",
    "profitable_cities = df.groupby('City')['total_profit'].sum().sort_values(ascending=0)\n",
    "profitable_cities"
   ]
  },
  {
   "cell_type": "code",
   "execution_count": 61,
   "metadata": {},
   "outputs": [
    {
     "name": "stderr",
     "output_type": "stream",
     "text": [
      "C:\\Users\\hmsha\\AppData\\Local\\Temp\\ipykernel_12372\\3800847262.py:4: FutureWarning: \n",
      "\n",
      "Passing `palette` without assigning `hue` is deprecated and will be removed in v0.14.0. Assign the `x` variable to `hue` and set `legend=False` for the same effect.\n",
      "\n",
      "  sns.barplot(x=profitable_categories.index, y=profitable_categories.values, palette=\"coolwarm\")\n"
     ]
    },
    {
     "data": {
      "image/png": "[encoded data removed]",
      "text/plain": [
       "<Figure size 1000x500 with 1 Axes>"
      ]
     },
     "metadata": {},
     "output_type": "display_data"
    }
   ],
   "source": [
    "# Bar plot of profitability\n",
    "\n",
    "plt.figure(figsize=(10,5))\n",
    "sns.barplot(x=profitable_categories.index, y=profitable_categories.values, palette=\"coolwarm\")\n",
    "plt.xticks(rotation=45)\n",
    "plt.title(\"Profitability by Product Category\")\n",
    "plt.show()"
   ]
  }
 ],
 "metadata": {
  "kernelspec": {
   "display_name": "Python 3",
   "language": "python",
   "name": "python3"
  },
  "language_info": {
   "codemirror_mode": {
    "name": "ipython",
    "version": 3
   },
   "file_extension": ".py",
   "mimetype": "text/x-python",
   "name": "python",
   "nbconvert_exporter": "python",
   "pygments_lexer": "ipython3",
   "version": "3.12.2"
  }
 },
 "nbformat": 4,
 "nbformat_minor": 2
}
