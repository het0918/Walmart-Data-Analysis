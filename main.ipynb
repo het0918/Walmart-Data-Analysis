{
 "cells": [
  {
   "cell_type": "code",
   "execution_count": 1,
   "metadata": {},
   "outputs": [],
   "source": [
    "# Import python dataframes.\n",
    "\n",
    "import pandas as pd\n",
    "import numpy as np\n",
    "import seaborn as sns\n",
    "import matplotlib.pyplot as plt"
   ]
  },
  {
   "cell_type": "markdown",
   "metadata": {},
   "source": [
    "** Step 1 - Clean Data **"
   ]
  },
  {
   "cell_type": "code",
   "execution_count": null,
   "metadata": {},
   "outputs": [],
   "source": [
    "# Read CSV\n",
    "df = pd.read_csv('Walmart.csv', encoding_errors=\"ignore\")"
   ]
  },
  {
   "cell_type": "code",
   "execution_count": 9,
   "metadata": {},
   "outputs": [
    {
     "data": {
      "text/plain": [
       "np.int64(0)"
      ]
     },
     "execution_count": 9,
     "metadata": {},
     "output_type": "execute_result"
    }
   ],
   "source": [
    "# Find Duplicates\n",
    "df.duplicated().sum()"
   ]
  },
  {
   "cell_type": "code",
   "execution_count": 7,
   "metadata": {},
   "outputs": [],
   "source": [
    "# Drop Duplicates\n",
    "df.drop_duplicates(inplace=True)"
   ]
  },
  {
   "cell_type": "code",
   "execution_count": 11,
   "metadata": {},
   "outputs": [
    {
     "data": {
      "text/plain": [
       "invoice_id         0\n",
       "Branch             0\n",
       "City               0\n",
       "category           0\n",
       "unit_price        31\n",
       "quantity          31\n",
       "date               0\n",
       "time               0\n",
       "payment_method     0\n",
       "rating             0\n",
       "profit_margin      0\n",
       "dtype: int64"
      ]
     },
     "execution_count": 11,
     "metadata": {},
     "output_type": "execute_result"
    }
   ],
   "source": [
    "# Find all nulls \n",
    "df.isna().sum()"
   ]
  },
  {
   "cell_type": "code",
   "execution_count": 13,
   "metadata": {},
   "outputs": [
    {
     "data": {
      "text/plain": [
       "invoice_id        0\n",
       "Branch            0\n",
       "City              0\n",
       "category          0\n",
       "unit_price        0\n",
       "quantity          0\n",
       "date              0\n",
       "time              0\n",
       "payment_method    0\n",
       "rating            0\n",
       "profit_margin     0\n",
       "dtype: int64"
      ]
     },
     "execution_count": 13,
     "metadata": {},
     "output_type": "execute_result"
    }
   ],
   "source": [
    "# Drop all nulls\n",
    "df.dropna(inplace=True)\n",
    "df.isna().sum()"
   ]
  },
  {
   "cell_type": "code",
   "execution_count": 14,
   "metadata": {},
   "outputs": [
    {
     "data": {
      "text/plain": [
       "invoice_id          int64\n",
       "Branch             object\n",
       "City               object\n",
       "category           object\n",
       "unit_price         object\n",
       "quantity          float64\n",
       "date               object\n",
       "time               object\n",
       "payment_method     object\n",
       "rating            float64\n",
       "profit_margin     float64\n",
       "dtype: object"
      ]
     },
     "execution_count": 14,
     "metadata": {},
     "output_type": "execute_result"
    }
   ],
   "source": [
    "# Column Datatypes\n",
    "df.dtypes"
   ]
  },
  {
   "cell_type": "code",
   "execution_count": 15,
   "metadata": {},
   "outputs": [
    {
     "data": {
      "text/html": [
       "<div>\n",
       "<style scoped>\n",
       "    .dataframe tbody tr th:only-of-type {\n",
       "        vertical-align: middle;\n",
       "    }\n",
       "\n",
       "    .dataframe tbody tr th {\n",
       "        vertical-align: top;\n",
       "    }\n",
       "\n",
       "    .dataframe thead th {\n",
       "        text-align: right;\n",
       "    }\n",
       "</style>\n",
       "<table border=\"1\" class=\"dataframe\">\n",
       "  <thead>\n",
       "    <tr style=\"text-align: right;\">\n",
       "      <th></th>\n",
       "      <th>invoice_id</th>\n",
       "      <th>Branch</th>\n",
       "      <th>City</th>\n",
       "      <th>category</th>\n",
       "      <th>unit_price</th>\n",
       "      <th>quantity</th>\n",
       "      <th>date</th>\n",
       "      <th>time</th>\n",
       "      <th>payment_method</th>\n",
       "      <th>rating</th>\n",
       "      <th>profit_margin</th>\n",
       "    </tr>\n",
       "  </thead>\n",
       "  <tbody>\n",
       "    <tr>\n",
       "      <th>0</th>\n",
       "      <td>1</td>\n",
       "      <td>WALM003</td>\n",
       "      <td>San Antonio</td>\n",
       "      <td>Health and beauty</td>\n",
       "      <td>$74.69</td>\n",
       "      <td>7.0</td>\n",
       "      <td>05/01/19</td>\n",
       "      <td>13:08:00</td>\n",
       "      <td>Ewallet</td>\n",
       "      <td>9.1</td>\n",
       "      <td>0.48</td>\n",
       "    </tr>\n",
       "    <tr>\n",
       "      <th>1</th>\n",
       "      <td>2</td>\n",
       "      <td>WALM048</td>\n",
       "      <td>Harlingen</td>\n",
       "      <td>Electronic accessories</td>\n",
       "      <td>$15.28</td>\n",
       "      <td>5.0</td>\n",
       "      <td>08/03/19</td>\n",
       "      <td>10:29:00</td>\n",
       "      <td>Cash</td>\n",
       "      <td>9.6</td>\n",
       "      <td>0.48</td>\n",
       "    </tr>\n",
       "    <tr>\n",
       "      <th>2</th>\n",
       "      <td>3</td>\n",
       "      <td>WALM067</td>\n",
       "      <td>Haltom City</td>\n",
       "      <td>Home and lifestyle</td>\n",
       "      <td>$46.33</td>\n",
       "      <td>7.0</td>\n",
       "      <td>03/03/19</td>\n",
       "      <td>13:23:00</td>\n",
       "      <td>Credit card</td>\n",
       "      <td>7.4</td>\n",
       "      <td>0.33</td>\n",
       "    </tr>\n",
       "    <tr>\n",
       "      <th>3</th>\n",
       "      <td>4</td>\n",
       "      <td>WALM064</td>\n",
       "      <td>Bedford</td>\n",
       "      <td>Health and beauty</td>\n",
       "      <td>$58.22</td>\n",
       "      <td>8.0</td>\n",
       "      <td>27/01/19</td>\n",
       "      <td>20:33:00</td>\n",
       "      <td>Ewallet</td>\n",
       "      <td>8.4</td>\n",
       "      <td>0.33</td>\n",
       "    </tr>\n",
       "    <tr>\n",
       "      <th>4</th>\n",
       "      <td>5</td>\n",
       "      <td>WALM013</td>\n",
       "      <td>Irving</td>\n",
       "      <td>Sports and travel</td>\n",
       "      <td>$86.31</td>\n",
       "      <td>7.0</td>\n",
       "      <td>08/02/19</td>\n",
       "      <td>10:37:00</td>\n",
       "      <td>Ewallet</td>\n",
       "      <td>5.3</td>\n",
       "      <td>0.48</td>\n",
       "    </tr>\n",
       "    <tr>\n",
       "      <th>5</th>\n",
       "      <td>6</td>\n",
       "      <td>WALM026</td>\n",
       "      <td>Denton</td>\n",
       "      <td>Electronic accessories</td>\n",
       "      <td>$85.39</td>\n",
       "      <td>7.0</td>\n",
       "      <td>25/03/19</td>\n",
       "      <td>18:30:00</td>\n",
       "      <td>Ewallet</td>\n",
       "      <td>4.1</td>\n",
       "      <td>0.48</td>\n",
       "    </tr>\n",
       "    <tr>\n",
       "      <th>6</th>\n",
       "      <td>7</td>\n",
       "      <td>WALM088</td>\n",
       "      <td>Cleburne</td>\n",
       "      <td>Electronic accessories</td>\n",
       "      <td>$68.84</td>\n",
       "      <td>6.0</td>\n",
       "      <td>25/02/19</td>\n",
       "      <td>14:36:00</td>\n",
       "      <td>Ewallet</td>\n",
       "      <td>5.8</td>\n",
       "      <td>0.33</td>\n",
       "    </tr>\n",
       "    <tr>\n",
       "      <th>7</th>\n",
       "      <td>8</td>\n",
       "      <td>WALM100</td>\n",
       "      <td>Canyon</td>\n",
       "      <td>Home and lifestyle</td>\n",
       "      <td>$73.56</td>\n",
       "      <td>10.0</td>\n",
       "      <td>24/02/19</td>\n",
       "      <td>11:38:00</td>\n",
       "      <td>Ewallet</td>\n",
       "      <td>8.0</td>\n",
       "      <td>0.18</td>\n",
       "    </tr>\n",
       "    <tr>\n",
       "      <th>8</th>\n",
       "      <td>9</td>\n",
       "      <td>WALM066</td>\n",
       "      <td>Grapevine</td>\n",
       "      <td>Health and beauty</td>\n",
       "      <td>$36.26</td>\n",
       "      <td>2.0</td>\n",
       "      <td>10/01/19</td>\n",
       "      <td>17:15:00</td>\n",
       "      <td>Credit card</td>\n",
       "      <td>7.2</td>\n",
       "      <td>0.33</td>\n",
       "    </tr>\n",
       "    <tr>\n",
       "      <th>9</th>\n",
       "      <td>10</td>\n",
       "      <td>WALM065</td>\n",
       "      <td>Texas City</td>\n",
       "      <td>Food and beverages</td>\n",
       "      <td>$54.84</td>\n",
       "      <td>3.0</td>\n",
       "      <td>20/02/19</td>\n",
       "      <td>13:27:00</td>\n",
       "      <td>Credit card</td>\n",
       "      <td>5.9</td>\n",
       "      <td>0.33</td>\n",
       "    </tr>\n",
       "  </tbody>\n",
       "</table>\n",
       "</div>"
      ],
      "text/plain": [
       "   invoice_id   Branch         City                category unit_price  \\\n",
       "0           1  WALM003  San Antonio       Health and beauty     $74.69   \n",
       "1           2  WALM048    Harlingen  Electronic accessories     $15.28   \n",
       "2           3  WALM067  Haltom City      Home and lifestyle     $46.33   \n",
       "3           4  WALM064      Bedford       Health and beauty     $58.22   \n",
       "4           5  WALM013       Irving       Sports and travel     $86.31   \n",
       "5           6  WALM026       Denton  Electronic accessories     $85.39   \n",
       "6           7  WALM088     Cleburne  Electronic accessories     $68.84   \n",
       "7           8  WALM100       Canyon      Home and lifestyle     $73.56   \n",
       "8           9  WALM066    Grapevine       Health and beauty     $36.26   \n",
       "9          10  WALM065   Texas City      Food and beverages     $54.84   \n",
       "\n",
       "   quantity      date      time payment_method  rating  profit_margin  \n",
       "0       7.0  05/01/19  13:08:00        Ewallet     9.1           0.48  \n",
       "1       5.0  08/03/19  10:29:00           Cash     9.6           0.48  \n",
       "2       7.0  03/03/19  13:23:00    Credit card     7.4           0.33  \n",
       "3       8.0  27/01/19  20:33:00        Ewallet     8.4           0.33  \n",
       "4       7.0  08/02/19  10:37:00        Ewallet     5.3           0.48  \n",
       "5       7.0  25/03/19  18:30:00        Ewallet     4.1           0.48  \n",
       "6       6.0  25/02/19  14:36:00        Ewallet     5.8           0.33  \n",
       "7      10.0  24/02/19  11:38:00        Ewallet     8.0           0.18  \n",
       "8       2.0  10/01/19  17:15:00    Credit card     7.2           0.33  \n",
       "9       3.0  20/02/19  13:27:00    Credit card     5.9           0.33  "
      ]
     },
     "execution_count": 15,
     "metadata": {},
     "output_type": "execute_result"
    }
   ],
   "source": [
    "# Get a quick look of dataset\n",
    "df.head(10)"
   ]
  },
  {
   "cell_type": "code",
   "execution_count": null,
   "metadata": {},
   "outputs": [],
   "source": [
    "# Remove '$' sign in front of values in column 'unit_price'\n",
    "df['unit_price'] = df['unit_price'].str.replace(\"$\", \"\").astype(float)"
   ]
  },
  {
   "cell_type": "code",
   "execution_count": 23,
   "metadata": {},
   "outputs": [
    {
     "data": {
      "text/plain": [
       "0    74.69\n",
       "1    15.28\n",
       "2    46.33\n",
       "3    58.22\n",
       "4    86.31\n",
       "5    85.39\n",
       "6    68.84\n",
       "7    73.56\n",
       "8    36.26\n",
       "9    54.84\n",
       "Name: unit_price, dtype: float64"
      ]
     },
     "execution_count": 23,
     "metadata": {},
     "output_type": "execute_result"
    }
   ],
   "source": [
    "# Verify removal of '$' sign\n",
    "df['unit_price'].head(10)"
   ]
  },
  {
   "cell_type": "code",
   "execution_count": 26,
   "metadata": {},
   "outputs": [],
   "source": [
    "# Calculate and add total revenue for each sale \n",
    "df[\"total_revenue\"] = df['unit_price'] * df['quantity']"
   ]
  }
 ],
 "metadata": {
  "kernelspec": {
   "display_name": "Python 3",
   "language": "python",
   "name": "python3"
  },
  "language_info": {
   "codemirror_mode": {
    "name": "ipython",
    "version": 3
   },
   "file_extension": ".py",
   "mimetype": "text/x-python",
   "name": "python",
   "nbconvert_exporter": "python",
   "pygments_lexer": "ipython3",
   "version": "3.12.2"
  }
 },
 "nbformat": 4,
 "nbformat_minor": 2
}
